{
 "cells": [
  {
   "cell_type": "markdown",
   "metadata": {},
   "source": [
    "# Feature selections: Iterative Method 500 to 20"
   ]
  },
  {
   "cell_type": "code",
   "execution_count": 17,
   "metadata": {},
   "outputs": [],
   "source": [
    "%run ../__init__.py\n",
    "%matplotlib inline"
   ]
  },
  {
   "cell_type": "code",
   "execution_count": 18,
   "metadata": {},
   "outputs": [],
   "source": [
    "target = pd.read_csv('../Datasets/madelon_train.labels', sep=' ', header=None)\n",
    "train = pd.read_csv('../Datasets/madelon_train.data', sep=' ', header=None)\n",
    "val = pd.read_csv('../Datasets/madelon_valid.data', sep=' ', header=None)"
   ]
  },
  {
   "cell_type": "code",
   "execution_count": 19,
   "metadata": {
    "collapsed": true
   },
   "outputs": [],
   "source": [
    "target.columns = ['target']\n",
    "train = train.drop(train.columns[500], axis=1)\n",
    "\n",
    "train= pd.concat([train, target], 1)\n",
    "\n",
    "X = train.drop(['target'], axis=1)\n",
    "y = train['target']"
   ]
  },
  {
   "cell_type": "code",
   "execution_count": 20,
   "metadata": {},
   "outputs": [
    {
     "data": {
      "text/plain": [
       "(440, 500)"
      ]
     },
     "execution_count": 20,
     "metadata": {},
     "output_type": "execute_result"
    }
   ],
   "source": [
    "sample1 = train.sample(440)\n",
    "\n",
    "Uci_y_1 = sample1['target']\n",
    "Uci_X_1 = sample1.drop(['target'], axis=1)\n",
    "Uci_X_1.shape"
   ]
  },
  {
   "cell_type": "code",
   "execution_count": 5,
   "metadata": {
    "collapsed": true
   },
   "outputs": [],
   "source": [
    "# use this function to find r2 of redundant features \n",
    "# dropping a feature and seeing if the other features can predict it\n",
    "def calculate_r_2_for_feature(data,feature):\n",
    "    new_data = data.drop(feature, axis=1)\n",
    "\n",
    "    X_train, \\\n",
    "    X_test,  \\\n",
    "    y_train, \\\n",
    "    y_test = train_test_split(\n",
    "        new_data,data[feature],test_size=0.25\n",
    "    )\n",
    "\n",
    "    regressor = KNeighborsRegressor()\n",
    "    regressor.fit(X_train,y_train)\n",
    "\n",
    "    score = regressor.score(X_test,y_test)\n",
    "    return score\n",
    "\n",
    "#use this function to take the mean of the scores after 100 runs\n",
    "def mean_r2_for_feature(data, feature):\n",
    "    scores = []\n",
    "    for _ in range(10):\n",
    "        scores.append(calculate_r_2_for_feature(data, feature))\n",
    "        \n",
    "    scores = np.array(scores)\n",
    "    return scores.mean()\n",
    "\n",
    "# use this function to get the mean of scores of multiple columns \n",
    "def mean_column_range_Knn(data):\n",
    "    r2_knn = []\n",
    "    for i in tqdm(range(0,500)):\n",
    "        if mean_r2_for_feature(data, i) > 0:\n",
    "            r2_knn.append(i)\n",
    "    return r2_knn"
   ]
  },
  {
   "cell_type": "code",
   "execution_count": 8,
   "metadata": {},
   "outputs": [
    {
     "name": "stderr",
     "output_type": "stream",
     "text": [
      "100%|██████████| 500/500 [02:54<00:00,  2.86it/s]\n"
     ]
    }
   ],
   "source": [
    "r2_knn = mean_column_range_Knn(Uci_X_1)"
   ]
  },
  {
   "cell_type": "code",
   "execution_count": 9,
   "metadata": {},
   "outputs": [
    {
     "data": {
      "text/plain": [
       "[28,\n",
       " 48,\n",
       " 64,\n",
       " 105,\n",
       " 128,\n",
       " 153,\n",
       " 241,\n",
       " 281,\n",
       " 318,\n",
       " 336,\n",
       " 338,\n",
       " 378,\n",
       " 433,\n",
       " 442,\n",
       " 451,\n",
       " 453,\n",
       " 455,\n",
       " 472,\n",
       " 475,\n",
       " 493]"
      ]
     },
     "execution_count": 9,
     "metadata": {},
     "output_type": "execute_result"
    }
   ],
   "source": [
    "r2_knn"
   ]
  },
  {
   "cell_type": "code",
   "execution_count": 9,
   "metadata": {
    "collapsed": true
   },
   "outputs": [],
   "source": [
    "# use this function to find r2 of redundant features \n",
    "# dropping a feature and seeing if the other features can predict it\n",
    "def calculate_r_2_for_feature_tree(data,feature):\n",
    "    new_data = data.drop(feature, axis=1)\n",
    "\n",
    "    X_train, \\\n",
    "    X_test,  \\\n",
    "    y_train, \\\n",
    "    y_test = train_test_split(\n",
    "        new_data,data[feature],test_size=0.25\n",
    "    )\n",
    "\n",
    "    regressor = DecisionTreeRegressor()\n",
    "    regressor.fit(X_train,y_train)\n",
    "\n",
    "    score = regressor.score(X_test,y_test)\n",
    "    return score\n",
    "\n",
    "#use this function to take the mean of the scores after 5 runs\n",
    "def mean_r2_for_feature_tree(data, feature):\n",
    "    scores = []\n",
    "    for _ in range(5):\n",
    "        scores.append(calculate_r_2_for_feature_tree(data, feature))\n",
    "        \n",
    "    scores = np.array(scores)\n",
    "    return scores.mean()\n",
    "\n",
    "# use this function to get the mean of scores of multiple columns \n",
    "def mean_column_range_tree(data):\n",
    "    r2_tree= []\n",
    "    for i in tqdm(range(0,500)):\n",
    "        if mean_r2_for_feature_tree(data, i) > 0:\n",
    "            r2_tree.append(i)\n",
    "    return r2_tree"
   ]
  },
  {
   "cell_type": "code",
   "execution_count": 10,
   "metadata": {},
   "outputs": [
    {
     "name": "stderr",
     "output_type": "stream",
     "text": [
      "100%|██████████| 500/500 [04:06<00:00,  2.03it/s]\n"
     ]
    }
   ],
   "source": [
    "r2_tree = mean_column_range_tree(Uci_X_1)"
   ]
  },
  {
   "cell_type": "code",
   "execution_count": 11,
   "metadata": {},
   "outputs": [
    {
     "data": {
      "text/plain": [
       "[28,\n",
       " 48,\n",
       " 64,\n",
       " 105,\n",
       " 128,\n",
       " 153,\n",
       " 241,\n",
       " 281,\n",
       " 318,\n",
       " 336,\n",
       " 338,\n",
       " 378,\n",
       " 433,\n",
       " 442,\n",
       " 451,\n",
       " 453,\n",
       " 455,\n",
       " 472,\n",
       " 475,\n",
       " 493]"
      ]
     },
     "metadata": {},
     "output_type": "display_data"
    }
   ],
   "source": [
    "display(r2_tree)"
   ]
  },
  {
   "cell_type": "markdown",
   "metadata": {},
   "source": [
    "Both top R2 scores from Knn and DecisionTree show the same columns this indicates that these are the top 20 features that are important. So I will keep columns 28, 48, 64, 105, 128, 153, 241, 281, 318, 336, 338, 378, 433, 442, 451, 453, 455, 472, 475, 493)"
   ]
  },
  {
   "cell_type": "code",
   "execution_count": 14,
   "metadata": {
    "collapsed": true
   },
   "outputs": [],
   "source": [
    "top_20 = [28, 48, 64, 105, 128, 153, 241, 281, 318, 336, 338, 378, 433,\n",
    "          442, 451, 453, 455, 472, 475, 493]"
   ]
  },
  {
   "cell_type": "code",
   "execution_count": 9,
   "metadata": {
    "collapsed": true
   },
   "outputs": [],
   "source": [
    "def skb_top_feats(x, y):\n",
    "    X_train, X_test, y_train, y_test = train_test_split(x, \n",
    "                                                    y, \n",
    "                                                    test_size=.2, \n",
    "                                                    random_state=42)\n",
    "    \n",
    "    scaler = StandardScaler()\n",
    "    \n",
    "    X_train_scaled = scaler.fit_transform(X_train)\n",
    "    X_test_scaled = scaler.transform(X_test)\n",
    "    skb_list = []\n",
    "    skb = SelectKBest(k=20)\n",
    "    skb.fit(X_train_scaled, y_train)\n",
    "    \n",
    "    skb_feats = np.where(skb.get_support())[0]\n",
    "    \n",
    "    skb_list.append(skb_feats)\n",
    "    \n",
    "    return skb_list"
   ]
  },
  {
   "cell_type": "code",
   "execution_count": 10,
   "metadata": {},
   "outputs": [],
   "source": [
    "uci_skb_feats = skb_top_feats(Uci_X_1, Uci_y_1)"
   ]
  },
  {
   "cell_type": "code",
   "execution_count": 11,
   "metadata": {},
   "outputs": [
    {
     "data": {
      "text/plain": [
       "[array([ 48,  64,  85,  87, 105, 128, 146, 241, 250, 310, 311, 336, 338,\n",
       "        340, 352, 353, 355, 424, 475, 496])]"
      ]
     },
     "execution_count": 11,
     "metadata": {},
     "output_type": "execute_result"
    }
   ],
   "source": [
    "uci_skb_feats"
   ]
  },
  {
   "cell_type": "code",
   "execution_count": 12,
   "metadata": {
    "collapsed": true
   },
   "outputs": [],
   "source": [
    "uci_skb_feats = [48, 64, 105, 128, 137, 149, 199, 204, 241, 282, 329, 336, 338, 378,\n",
    "        424, 442, 453, 472, 475, 493]"
   ]
  },
  {
   "cell_type": "code",
   "execution_count": 15,
   "metadata": {},
   "outputs": [
    {
     "name": "stdout",
     "output_type": "stream",
     "text": [
      "48\n",
      "64\n",
      "105\n",
      "128\n",
      "241\n",
      "336\n",
      "338\n",
      "378\n",
      "442\n",
      "453\n",
      "472\n",
      "475\n",
      "493\n"
     ]
    }
   ],
   "source": [
    "for i in uci_skb_feats:\n",
    "    if i in top_20:\n",
    "        print(i)"
   ]
  },
  {
   "cell_type": "markdown",
   "metadata": {},
   "source": [
    "# Correlation Matrix Method"
   ]
  },
  {
   "cell_type": "code",
   "execution_count": 71,
   "metadata": {
    "collapsed": true
   },
   "outputs": [],
   "source": [
    "corr_df = X.corr().abs()\n",
    "corr_df = corr_df > .5\n",
    "corr_df = corr_df[corr_df].count()"
   ]
  },
  {
   "cell_type": "code",
   "execution_count": 22,
   "metadata": {},
   "outputs": [
    {
     "data": {
      "text/html": [
       "<div>\n",
       "<style>\n",
       "    .dataframe thead tr:only-child th {\n",
       "        text-align: right;\n",
       "    }\n",
       "\n",
       "    .dataframe thead th {\n",
       "        text-align: left;\n",
       "    }\n",
       "\n",
       "    .dataframe tbody tr th {\n",
       "        vertical-align: top;\n",
       "    }\n",
       "</style>\n",
       "<table border=\"1\" class=\"dataframe\">\n",
       "  <thead>\n",
       "    <tr style=\"text-align: right;\">\n",
       "      <th></th>\n",
       "      <th>0</th>\n",
       "    </tr>\n",
       "  </thead>\n",
       "  <tbody>\n",
       "    <tr>\n",
       "      <th>28</th>\n",
       "      <td>0.989640</td>\n",
       "    </tr>\n",
       "    <tr>\n",
       "      <th>48</th>\n",
       "      <td>0.988951</td>\n",
       "    </tr>\n",
       "    <tr>\n",
       "      <th>64</th>\n",
       "      <td>0.989398</td>\n",
       "    </tr>\n",
       "    <tr>\n",
       "      <th>105</th>\n",
       "      <td>0.990148</td>\n",
       "    </tr>\n",
       "    <tr>\n",
       "      <th>128</th>\n",
       "      <td>0.990148</td>\n",
       "    </tr>\n",
       "    <tr>\n",
       "      <th>153</th>\n",
       "      <td>0.990329</td>\n",
       "    </tr>\n",
       "    <tr>\n",
       "      <th>241</th>\n",
       "      <td>0.990338</td>\n",
       "    </tr>\n",
       "    <tr>\n",
       "      <th>281</th>\n",
       "      <td>0.990329</td>\n",
       "    </tr>\n",
       "    <tr>\n",
       "      <th>318</th>\n",
       "      <td>0.989640</td>\n",
       "    </tr>\n",
       "    <tr>\n",
       "      <th>336</th>\n",
       "      <td>0.989398</td>\n",
       "    </tr>\n",
       "    <tr>\n",
       "      <th>338</th>\n",
       "      <td>0.687311</td>\n",
       "    </tr>\n",
       "    <tr>\n",
       "      <th>378</th>\n",
       "      <td>0.988951</td>\n",
       "    </tr>\n",
       "    <tr>\n",
       "      <th>433</th>\n",
       "      <td>0.990188</td>\n",
       "    </tr>\n",
       "    <tr>\n",
       "      <th>442</th>\n",
       "      <td>0.990550</td>\n",
       "    </tr>\n",
       "    <tr>\n",
       "      <th>451</th>\n",
       "      <td>0.988742</td>\n",
       "    </tr>\n",
       "    <tr>\n",
       "      <th>453</th>\n",
       "      <td>0.987456</td>\n",
       "    </tr>\n",
       "    <tr>\n",
       "      <th>455</th>\n",
       "      <td>0.710153</td>\n",
       "    </tr>\n",
       "    <tr>\n",
       "      <th>472</th>\n",
       "      <td>0.990550</td>\n",
       "    </tr>\n",
       "    <tr>\n",
       "      <th>475</th>\n",
       "      <td>0.990338</td>\n",
       "    </tr>\n",
       "    <tr>\n",
       "      <th>493</th>\n",
       "      <td>0.987456</td>\n",
       "    </tr>\n",
       "  </tbody>\n",
       "</table>\n",
       "</div>"
      ],
      "text/plain": [
       "            0\n",
       "28   0.989640\n",
       "48   0.988951\n",
       "64   0.989398\n",
       "105  0.990148\n",
       "128  0.990148\n",
       "153  0.990329\n",
       "241  0.990338\n",
       "281  0.990329\n",
       "318  0.989640\n",
       "336  0.989398\n",
       "338  0.687311\n",
       "378  0.988951\n",
       "433  0.990188\n",
       "442  0.990550\n",
       "451  0.988742\n",
       "453  0.987456\n",
       "455  0.710153\n",
       "472  0.990550\n",
       "475  0.990338\n",
       "493  0.987456"
      ]
     },
     "execution_count": 22,
     "metadata": {},
     "output_type": "execute_result"
    }
   ],
   "source": [
    "corr_df = Uci_X_1.corr().abs()\n",
    "for i in corr_df.columns:\n",
    "    corr_df.loc[i,i] = 0\n",
    "corr_list = corr_df.max().sort_values(ascending=False)[:20]\n",
    "\n",
    "corr_list = pd.DataFrame(corr_list)\n",
    "corr_list.sort_index(ascending=True)"
   ]
  },
  {
   "cell_type": "markdown",
   "metadata": {},
   "source": [
    "Even though SelectKbest did not give the same 20 columns as R2 method, 13 of SelectKbest columns were in R2 method. The correlation matrix method also gave the same top 20 columns as the R2 method.  Therefore, these will be the 20 important columns that would be used to run the models"
   ]
  },
  {
   "cell_type": "code",
   "execution_count": null,
   "metadata": {
    "collapsed": true
   },
   "outputs": [],
   "source": [
    "train.to_pickle('./Datasets/train_clean.p')"
   ]
  }
 ],
 "metadata": {
  "kernelspec": {
   "display_name": "Python 3",
   "language": "python",
   "name": "python3"
  },
  "language_info": {
   "codemirror_mode": {
    "name": "ipython",
    "version": 3
   },
   "file_extension": ".py",
   "mimetype": "text/x-python",
   "name": "python",
   "nbconvert_exporter": "python",
   "pygments_lexer": "ipython3",
   "version": "3.6.2"
  }
 },
 "nbformat": 4,
 "nbformat_minor": 2
}
