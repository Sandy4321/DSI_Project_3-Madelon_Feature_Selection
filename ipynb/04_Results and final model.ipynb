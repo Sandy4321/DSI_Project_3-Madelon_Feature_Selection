{
 "cells": [
  {
   "cell_type": "markdown",
   "metadata": {},
   "source": [
    "# Import result dataframes of UCI and Database models"
   ]
  },
  {
   "cell_type": "code",
   "execution_count": 1,
   "metadata": {
    "collapsed": true
   },
   "outputs": [],
   "source": [
    "%run ../__init__.py"
   ]
  },
  {
   "cell_type": "code",
   "execution_count": 2,
   "metadata": {
    "collapsed": true
   },
   "outputs": [],
   "source": [
    "db_pca_results = pd.read_pickle('../Datasets/db_pca_results.p')\n",
    "db_skb_results = pd.read_pickle('../Datasets/db_skb_results.p') \n",
    "db_sfm_results = pd.read_pickle('../Datasets/db_sfm_results.p')                               \n",
    "uci_pca_results = pd.read_pickle('../Datasets/uci_pca_scores.p')\n",
    "uci_skb_results = pd.read_pickle('../Datasets/uci_skb_scores.p') \n",
    "uci_sfm_results = pd.read_pickle('../Datasets/uci_sfm_scores.p')                               "
   ]
  },
  {
   "cell_type": "code",
   "execution_count": 3,
   "metadata": {
    "collapsed": true
   },
   "outputs": [],
   "source": [
    "db_pca_results['Method']='PCA'\n",
    "db_skb_results['Method']='SKB'\n",
    "db_sfm_results['Method']='SFM'"
   ]
  },
  {
   "cell_type": "code",
   "execution_count": 10,
   "metadata": {
    "scrolled": false
   },
   "outputs": [
    {
     "data": {
      "text/html": [
       "<div>\n",
       "<style>\n",
       "    .dataframe thead tr:only-child th {\n",
       "        text-align: right;\n",
       "    }\n",
       "\n",
       "    .dataframe thead th {\n",
       "        text-align: left;\n",
       "    }\n",
       "\n",
       "    .dataframe tbody tr th {\n",
       "        vertical-align: top;\n",
       "    }\n",
       "</style>\n",
       "<table border=\"1\" class=\"dataframe\">\n",
       "  <thead>\n",
       "    <tr style=\"text-align: right;\">\n",
       "      <th></th>\n",
       "      <th>best_params</th>\n",
       "      <th>best_score</th>\n",
       "      <th>estimator</th>\n",
       "      <th>test_score</th>\n",
       "      <th>train_score</th>\n",
       "      <th>Method</th>\n",
       "    </tr>\n",
       "  </thead>\n",
       "  <tbody>\n",
       "    <tr>\n",
       "      <th>9</th>\n",
       "      <td>{'clf__C': 10, 'pca__n_components': 5}</td>\n",
       "      <td>0.810172</td>\n",
       "      <td>SVC(C=10, cache_size=200, class_weight=None, c...</td>\n",
       "      <td>0.827927</td>\n",
       "      <td>0.888935</td>\n",
       "      <td>PCA</td>\n",
       "    </tr>\n",
       "    <tr>\n",
       "      <th>4</th>\n",
       "      <td>{'clf__C': 10, 'pca__n_components': 5}</td>\n",
       "      <td>0.818317</td>\n",
       "      <td>SVC(C=10, cache_size=200, class_weight=None, c...</td>\n",
       "      <td>0.826990</td>\n",
       "      <td>0.888271</td>\n",
       "      <td>PCA</td>\n",
       "    </tr>\n",
       "    <tr>\n",
       "      <th>35</th>\n",
       "      <td>{'clf__n_neighbors': 9, 'sfm__estimator': Ridg...</td>\n",
       "      <td>0.792715</td>\n",
       "      <td>KNeighborsClassifier(algorithm='auto', leaf_si...</td>\n",
       "      <td>0.816383</td>\n",
       "      <td>0.849072</td>\n",
       "      <td>SFM</td>\n",
       "    </tr>\n",
       "    <tr>\n",
       "      <th>0</th>\n",
       "      <td>{'clf__n_neighbors': 9, 'pca__n_components': 5}</td>\n",
       "      <td>0.801261</td>\n",
       "      <td>KNeighborsClassifier(algorithm='auto', leaf_si...</td>\n",
       "      <td>0.815620</td>\n",
       "      <td>0.843159</td>\n",
       "      <td>PCA</td>\n",
       "    </tr>\n",
       "    <tr>\n",
       "      <th>5</th>\n",
       "      <td>{'clf__n_neighbors': 7, 'pca__n_components': 5}</td>\n",
       "      <td>0.797113</td>\n",
       "      <td>KNeighborsClassifier(algorithm='auto', leaf_si...</td>\n",
       "      <td>0.814733</td>\n",
       "      <td>0.855945</td>\n",
       "      <td>PCA</td>\n",
       "    </tr>\n",
       "  </tbody>\n",
       "</table>\n",
       "</div>"
      ],
      "text/plain": [
       "                                          best_params  best_score  \\\n",
       "9              {'clf__C': 10, 'pca__n_components': 5}    0.810172   \n",
       "4              {'clf__C': 10, 'pca__n_components': 5}    0.818317   \n",
       "35  {'clf__n_neighbors': 9, 'sfm__estimator': Ridg...    0.792715   \n",
       "0     {'clf__n_neighbors': 9, 'pca__n_components': 5}    0.801261   \n",
       "5     {'clf__n_neighbors': 7, 'pca__n_components': 5}    0.797113   \n",
       "\n",
       "                                            estimator  test_score  \\\n",
       "9   SVC(C=10, cache_size=200, class_weight=None, c...    0.827927   \n",
       "4   SVC(C=10, cache_size=200, class_weight=None, c...    0.826990   \n",
       "35  KNeighborsClassifier(algorithm='auto', leaf_si...    0.816383   \n",
       "0   KNeighborsClassifier(algorithm='auto', leaf_si...    0.815620   \n",
       "5   KNeighborsClassifier(algorithm='auto', leaf_si...    0.814733   \n",
       "\n",
       "    train_score Method  \n",
       "9      0.888935    PCA  \n",
       "4      0.888271    PCA  \n",
       "35     0.849072    SFM  \n",
       "0      0.843159    PCA  \n",
       "5      0.855945    PCA  "
      ]
     },
     "execution_count": 10,
     "metadata": {},
     "output_type": "execute_result"
    }
   ],
   "source": [
    "db_results = pd.concat([db_pca_results, db_skb_results, db_sfm_results], ignore_index=True)\n",
    "\n",
    "db_top_5 = db_results.sort_values(['test_score'], ascending=False).head(5)\n",
    "\n",
    "db_top_5"
   ]
  },
  {
   "cell_type": "code",
   "execution_count": 12,
   "metadata": {},
   "outputs": [],
   "source": [
    "db_top_5.to_pickle('../Datasets/db_top5.p')"
   ]
  },
  {
   "cell_type": "code",
   "execution_count": 5,
   "metadata": {},
   "outputs": [
    {
     "data": {
      "text/plain": [
       "{'clf__C': 10, 'pca__n_components': 5}"
      ]
     },
     "execution_count": 5,
     "metadata": {},
     "output_type": "execute_result"
    }
   ],
   "source": [
    "db_top_5['best_params'][9]"
   ]
  },
  {
   "cell_type": "code",
   "execution_count": 15,
   "metadata": {
    "collapsed": true
   },
   "outputs": [],
   "source": [
    "uci_pca_results['Method']='PCA'\n",
    "uci_skb_results['Method']='SKB'\n",
    "uci_sfm_results['Method']='SFM'"
   ]
  },
  {
   "cell_type": "code",
   "execution_count": 16,
   "metadata": {},
   "outputs": [
    {
     "data": {
      "text/html": [
       "<div>\n",
       "<style>\n",
       "    .dataframe thead tr:only-child th {\n",
       "        text-align: right;\n",
       "    }\n",
       "\n",
       "    .dataframe thead th {\n",
       "        text-align: left;\n",
       "    }\n",
       "\n",
       "    .dataframe tbody tr th {\n",
       "        vertical-align: top;\n",
       "    }\n",
       "</style>\n",
       "<table border=\"1\" class=\"dataframe\">\n",
       "  <thead>\n",
       "    <tr style=\"text-align: right;\">\n",
       "      <th></th>\n",
       "      <th>best_params</th>\n",
       "      <th>best_score</th>\n",
       "      <th>estimator</th>\n",
       "      <th>test_score</th>\n",
       "      <th>train_score</th>\n",
       "      <th>Method</th>\n",
       "    </tr>\n",
       "  </thead>\n",
       "  <tbody>\n",
       "    <tr>\n",
       "      <th>0</th>\n",
       "      <td>{'clf__C': 10.0, 'pca__n_components': 5}</td>\n",
       "      <td>0.809229</td>\n",
       "      <td>SVC(C=10.0, cache_size=200, class_weight=None,...</td>\n",
       "      <td>0.874728</td>\n",
       "      <td>0.988817</td>\n",
       "      <td>PCA</td>\n",
       "    </tr>\n",
       "    <tr>\n",
       "      <th>29</th>\n",
       "      <td>{'clf__C': 10.0, 'feature_selection__k': 15}</td>\n",
       "      <td>0.812500</td>\n",
       "      <td>SVC(C=10.0, cache_size=200, class_weight=None,...</td>\n",
       "      <td>0.863636</td>\n",
       "      <td>0.940341</td>\n",
       "      <td>SKB</td>\n",
       "    </tr>\n",
       "    <tr>\n",
       "      <th>1</th>\n",
       "      <td>{'clf__max_features': 'auto', 'clf__n_estimato...</td>\n",
       "      <td>0.827744</td>\n",
       "      <td>(DecisionTreeClassifier(class_weight=None, cri...</td>\n",
       "      <td>0.849294</td>\n",
       "      <td>1.000000</td>\n",
       "      <td>PCA</td>\n",
       "    </tr>\n",
       "    <tr>\n",
       "      <th>28</th>\n",
       "      <td>{'clf__max_features': 'auto', 'clf__n_estimato...</td>\n",
       "      <td>0.801136</td>\n",
       "      <td>(DecisionTreeClassifier(class_weight=None, cri...</td>\n",
       "      <td>0.840909</td>\n",
       "      <td>1.000000</td>\n",
       "      <td>SKB</td>\n",
       "    </tr>\n",
       "    <tr>\n",
       "      <th>30</th>\n",
       "      <td>{'clf__C': 10.0, 'sfm__estimator': RidgeClassi...</td>\n",
       "      <td>0.781250</td>\n",
       "      <td>SVC(C=10.0, cache_size=200, class_weight=None,...</td>\n",
       "      <td>0.840909</td>\n",
       "      <td>0.889205</td>\n",
       "      <td>SFM</td>\n",
       "    </tr>\n",
       "  </tbody>\n",
       "</table>\n",
       "</div>"
      ],
      "text/plain": [
       "                                          best_params  best_score  \\\n",
       "0            {'clf__C': 10.0, 'pca__n_components': 5}    0.809229   \n",
       "29       {'clf__C': 10.0, 'feature_selection__k': 15}    0.812500   \n",
       "1   {'clf__max_features': 'auto', 'clf__n_estimato...    0.827744   \n",
       "28  {'clf__max_features': 'auto', 'clf__n_estimato...    0.801136   \n",
       "30  {'clf__C': 10.0, 'sfm__estimator': RidgeClassi...    0.781250   \n",
       "\n",
       "                                            estimator  test_score  \\\n",
       "0   SVC(C=10.0, cache_size=200, class_weight=None,...    0.874728   \n",
       "29  SVC(C=10.0, cache_size=200, class_weight=None,...    0.863636   \n",
       "1   (DecisionTreeClassifier(class_weight=None, cri...    0.849294   \n",
       "28  (DecisionTreeClassifier(class_weight=None, cri...    0.840909   \n",
       "30  SVC(C=10.0, cache_size=200, class_weight=None,...    0.840909   \n",
       "\n",
       "    train_score Method  \n",
       "0      0.988817    PCA  \n",
       "29     0.940341    SKB  \n",
       "1      1.000000    PCA  \n",
       "28     1.000000    SKB  \n",
       "30     0.889205    SFM  "
      ]
     },
     "execution_count": 16,
     "metadata": {},
     "output_type": "execute_result"
    }
   ],
   "source": [
    "uci_results = pd.concat([uci_pca_results, uci_skb_results, uci_sfm_results], ignore_index=True)\n",
    "\n",
    "uci_top_5 = uci_results.sort_values(['test_score'], ascending=False).head(5)\n",
    "\n",
    "uci_top_5"
   ]
  },
  {
   "cell_type": "code",
   "execution_count": 18,
   "metadata": {
    "scrolled": false
   },
   "outputs": [],
   "source": [
    "uci_top_5.to_pickle('../Datasets/uci_top5.p')"
   ]
  },
  {
   "cell_type": "code",
   "execution_count": 28,
   "metadata": {
    "scrolled": true
   },
   "outputs": [
    {
     "data": {
      "text/plain": [
       "{'clf__C': 10.0, 'pca__n_components': 5}"
      ]
     },
     "execution_count": 28,
     "metadata": {},
     "output_type": "execute_result"
    }
   ],
   "source": [
    "uci_top_5['best_params'][0]"
   ]
  },
  {
   "cell_type": "markdown",
   "metadata": {},
   "source": [
    "The best scores from both the Database and UCI were there following:\n",
    "- PCA method feature reduction method\n",
    "- SVC estimator\n",
    "- C = 10.0\n",
    "- n_components = 5 "
   ]
  }
 ],
 "metadata": {
  "kernelspec": {
   "display_name": "Python 3",
   "language": "python",
   "name": "python3"
  },
  "language_info": {
   "codemirror_mode": {
    "name": "ipython",
    "version": 3
   },
   "file_extension": ".py",
   "mimetype": "text/x-python",
   "name": "python",
   "nbconvert_exporter": "python",
   "pygments_lexer": "ipython3",
   "version": "3.6.1"
  }
 },
 "nbformat": 4,
 "nbformat_minor": 2
}
