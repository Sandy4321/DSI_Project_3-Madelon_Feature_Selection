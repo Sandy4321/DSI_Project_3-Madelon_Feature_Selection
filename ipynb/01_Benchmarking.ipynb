{
 "cells": [
  {
   "cell_type": "markdown",
   "metadata": {},
   "source": [
    "# Benchmark for UCI Train Set and 5% sample of Database"
   ]
  },
  {
   "cell_type": "markdown",
   "metadata": {},
   "source": [
    "Running Naive models "
   ]
  },
  {
   "cell_type": "code",
   "execution_count": 2,
   "metadata": {
    "scrolled": true
   },
   "outputs": [],
   "source": [
    "%run ../__init__.py"
   ]
  },
  {
   "cell_type": "code",
   "execution_count": 3,
   "metadata": {
    "collapsed": true
   },
   "outputs": [],
   "source": [
    "%matplotlib inline"
   ]
  },
  {
   "cell_type": "markdown",
   "metadata": {},
   "source": [
    "# Load UCI data"
   ]
  },
  {
   "cell_type": "code",
   "execution_count": 4,
   "metadata": {},
   "outputs": [],
   "source": [
    "target = pd.read_csv('../Datasets/madelon_train.labels', sep=' ', header=None)\n",
    "train = pd.read_csv('../Datasets/madelon_train.data', sep=' ', header=None)\n",
    "val = pd.read_csv('../Datasets/madelon_valid.data', sep=' ', header=None)\n",
    "\n",
    "\n",
    "target.columns = ['target']\n",
    "train = train.drop(train.columns[500], axis=1)\n",
    "\n",
    "uci_data = pd.concat([train, target], 1)\n",
    "\n",
    "uci_x = uci_data.drop(['target'], axis=1)\n",
    "uci_y = uci_data['target']"
   ]
  },
  {
   "cell_type": "markdown",
   "metadata": {},
   "source": [
    "# Load data from database"
   ]
  },
  {
   "cell_type": "code",
   "execution_count": 5,
   "metadata": {},
   "outputs": [],
   "source": [
    "db_data = pd.read_pickle('../Datasets/database_1.p')\n",
    "db_x = db_data.drop(['target'], axis=1)\n",
    "db_y = db_data['target']"
   ]
  },
  {
   "cell_type": "code",
   "execution_count": 6,
   "metadata": {},
   "outputs": [
    {
     "data": {
      "text/plain": [
       "(10114, 1001)"
      ]
     },
     "execution_count": 6,
     "metadata": {},
     "output_type": "execute_result"
    }
   ],
   "source": [
    "db_x.shape"
   ]
  },
  {
   "cell_type": "code",
   "execution_count": 7,
   "metadata": {
    "collapsed": true
   },
   "outputs": [],
   "source": [
    "names = [\"LogisticRegression\", \"Nearest_Neighbors\", \"Support_vector\",\n",
    "         \"Decision_Tree\",]\n",
    "\n",
    "classifiers = [LogisticRegression(C=1e10),\n",
    "               KNeighborsClassifier(),\n",
    "               SVC(C=1e10),\n",
    "               DecisionTreeClassifier(),\n",
    "              ]\n",
    "Uci = 'Uci'\n",
    "Database = 'Database'"
   ]
  },
  {
   "cell_type": "code",
   "execution_count": 8,
   "metadata": {
    "collapsed": true
   },
   "outputs": [],
   "source": [
    "def benchmarks(x, y, data_source):\n",
    "    X_train, X_test, y_train, y_test = train_test_split(x, y, test_size=.2, random_state=42)  \n",
    "    \n",
    "    scores = []\n",
    "    for name, clf in zip(names, classifiers):\n",
    "        clf.fit(X_train, y_train)\n",
    "        train_score = clf.score(X_train, y_train)\n",
    "        test_score = clf.score(X_test, y_test)\n",
    "        scores.append({'data': data_source,\n",
    "                                'model': name,\n",
    "                                 'train_score':train_score,\n",
    "                                 'test_score':test_score})\n",
    "    return scores"
   ]
  },
  {
   "cell_type": "code",
   "execution_count": 9,
   "metadata": {
    "collapsed": true
   },
   "outputs": [],
   "source": [
    "results_uci = benchmarks(uci_x, uci_y, Uci)"
   ]
  },
  {
   "cell_type": "code",
   "execution_count": 10,
   "metadata": {
    "collapsed": true
   },
   "outputs": [],
   "source": [
    "results = benchmarks(db_x, db_y, Database)"
   ]
  },
  {
   "cell_type": "code",
   "execution_count": 11,
   "metadata": {
    "collapsed": true
   },
   "outputs": [],
   "source": [
    "results_uci = pd.DataFrame(results_uci)"
   ]
  },
  {
   "cell_type": "code",
   "execution_count": 12,
   "metadata": {
    "collapsed": true,
    "scrolled": false
   },
   "outputs": [],
   "source": [
    "results = pd.DataFrame(results)"
   ]
  },
  {
   "cell_type": "code",
   "execution_count": 13,
   "metadata": {},
   "outputs": [
    {
     "data": {
      "text/html": [
       "<div>\n",
       "<style>\n",
       "    .dataframe thead tr:only-child th {\n",
       "        text-align: right;\n",
       "    }\n",
       "\n",
       "    .dataframe thead th {\n",
       "        text-align: left;\n",
       "    }\n",
       "\n",
       "    .dataframe tbody tr th {\n",
       "        vertical-align: top;\n",
       "    }\n",
       "</style>\n",
       "<table border=\"1\" class=\"dataframe\">\n",
       "  <thead>\n",
       "    <tr style=\"text-align: right;\">\n",
       "      <th></th>\n",
       "      <th>data</th>\n",
       "      <th>model</th>\n",
       "      <th>test_score</th>\n",
       "      <th>train_score</th>\n",
       "    </tr>\n",
       "  </thead>\n",
       "  <tbody>\n",
       "    <tr>\n",
       "      <th>0</th>\n",
       "      <td>Database</td>\n",
       "      <td>LogisticRegression</td>\n",
       "      <td>0.539298</td>\n",
       "      <td>0.677543</td>\n",
       "    </tr>\n",
       "    <tr>\n",
       "      <th>1</th>\n",
       "      <td>Database</td>\n",
       "      <td>Nearest_Neighbors</td>\n",
       "      <td>0.513099</td>\n",
       "      <td>0.688419</td>\n",
       "    </tr>\n",
       "    <tr>\n",
       "      <th>2</th>\n",
       "      <td>Database</td>\n",
       "      <td>Support_vector</td>\n",
       "      <td>0.503707</td>\n",
       "      <td>1.000000</td>\n",
       "    </tr>\n",
       "    <tr>\n",
       "      <th>3</th>\n",
       "      <td>Database</td>\n",
       "      <td>Decision_Tree</td>\n",
       "      <td>0.629263</td>\n",
       "      <td>1.000000</td>\n",
       "    </tr>\n",
       "    <tr>\n",
       "      <th>0</th>\n",
       "      <td>Uci</td>\n",
       "      <td>LogisticRegression</td>\n",
       "      <td>0.500000</td>\n",
       "      <td>0.782500</td>\n",
       "    </tr>\n",
       "    <tr>\n",
       "      <th>1</th>\n",
       "      <td>Uci</td>\n",
       "      <td>Nearest_Neighbors</td>\n",
       "      <td>0.700000</td>\n",
       "      <td>0.825625</td>\n",
       "    </tr>\n",
       "    <tr>\n",
       "      <th>2</th>\n",
       "      <td>Uci</td>\n",
       "      <td>Support_vector</td>\n",
       "      <td>0.492500</td>\n",
       "      <td>1.000000</td>\n",
       "    </tr>\n",
       "    <tr>\n",
       "      <th>3</th>\n",
       "      <td>Uci</td>\n",
       "      <td>Decision_Tree</td>\n",
       "      <td>0.755000</td>\n",
       "      <td>1.000000</td>\n",
       "    </tr>\n",
       "  </tbody>\n",
       "</table>\n",
       "</div>"
      ],
      "text/plain": [
       "       data               model  test_score  train_score\n",
       "0  Database  LogisticRegression    0.539298     0.677543\n",
       "1  Database   Nearest_Neighbors    0.513099     0.688419\n",
       "2  Database      Support_vector    0.503707     1.000000\n",
       "3  Database       Decision_Tree    0.629263     1.000000\n",
       "0       Uci  LogisticRegression    0.500000     0.782500\n",
       "1       Uci   Nearest_Neighbors    0.700000     0.825625\n",
       "2       Uci      Support_vector    0.492500     1.000000\n",
       "3       Uci       Decision_Tree    0.755000     1.000000"
      ]
     },
     "execution_count": 13,
     "metadata": {},
     "output_type": "execute_result"
    }
   ],
   "source": [
    "benchmark_scores = pd.concat([results, results_uci])\n",
    "benchmark_scores"
   ]
  },
  {
   "cell_type": "code",
   "execution_count": 16,
   "metadata": {},
   "outputs": [],
   "source": [
    "benchmark_scores.to_pickle(\"../Images/benchmarkscores\")"
   ]
  },
  {
   "cell_type": "code",
   "execution_count": null,
   "metadata": {
    "collapsed": true
   },
   "outputs": [],
   "source": []
  }
 ],
 "metadata": {
  "kernelspec": {
   "display_name": "Python 3",
   "language": "python",
   "name": "python3"
  },
  "language_info": {
   "codemirror_mode": {
    "name": "ipython",
    "version": 3
   },
   "file_extension": ".py",
   "mimetype": "text/x-python",
   "name": "python",
   "nbconvert_exporter": "python",
   "pygments_lexer": "ipython3",
   "version": "3.6.1"
  }
 },
 "nbformat": 4,
 "nbformat_minor": 2
}
