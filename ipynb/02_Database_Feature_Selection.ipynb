{
 "cells": [
  {
   "cell_type": "markdown",
   "metadata": {},
   "source": [
    "# Database Feature Selections"
   ]
  },
  {
   "cell_type": "code",
   "execution_count": 17,
   "metadata": {},
   "outputs": [
    {
     "name": "stdout",
     "output_type": "stream",
     "text": [
      "Fetching package metadata ...........\n",
      "Solving package specifications: .\n",
      "\n",
      "Package plan for installation in environment /Users/uyen/anaconda:\n",
      "\n",
      "The following NEW packages will be INSTALLED:\n",
      "\n",
      "    tqdm: 4.19.4-py36he502594_0\n",
      "\n",
      "tqdm-4.19.4-py 100% |################################| Time: 0:00:00 727.76 kB/s\n"
     ]
    }
   ],
   "source": [
    "!conda install --yes tqdm"
   ]
  },
  {
   "cell_type": "code",
   "execution_count": 2,
   "metadata": {},
   "outputs": [
    {
     "name": "stdout",
     "output_type": "stream",
     "text": [
      "Fetching package metadata ...........\n",
      "Solving package specifications: .\n",
      "\n",
      "Package plan for installation in environment /Users/uyen/anaconda:\n",
      "\n",
      "The following NEW packages will be INSTALLED:\n",
      "\n",
      "    libpq:    9.5.4-0               \n",
      "    psycopg2: 2.7.3.1-py36h1723d43_0\n",
      "\n",
      "libpq-9.5.4-0. 100% |################################| Time: 0:00:00   1.08 MB/s\n",
      "psycopg2-2.7.3 100% |################################| Time: 0:00:01 218.80 kB/s\n"
     ]
    }
   ],
   "source": [
    "!conda install psycopg2 --yes"
   ]
  },
  {
   "cell_type": "code",
   "execution_count": 2,
   "metadata": {},
   "outputs": [],
   "source": [
    "%run ../__init__.py\n",
    "%matplotlib inline"
   ]
  },
  {
   "cell_type": "code",
   "execution_count": 4,
   "metadata": {},
   "outputs": [],
   "source": [
    "database_1 = pd.read_pickle('../Datasets/database_1.p')\n",
    "database_2 = pd.read_pickle('../Datasets/database_2.p')\n",
    "database_3 = pd.read_pickle('../Datasets/database_3.p')\n"
   ]
  },
  {
   "cell_type": "code",
   "execution_count": 5,
   "metadata": {},
   "outputs": [
    {
     "data": {
      "text/html": [
       "<div>\n",
       "<style>\n",
       "    .dataframe thead tr:only-child th {\n",
       "        text-align: right;\n",
       "    }\n",
       "\n",
       "    .dataframe thead th {\n",
       "        text-align: left;\n",
       "    }\n",
       "\n",
       "    .dataframe tbody tr th {\n",
       "        vertical-align: top;\n",
       "    }\n",
       "</style>\n",
       "<table border=\"1\" class=\"dataframe\">\n",
       "  <thead>\n",
       "    <tr style=\"text-align: right;\">\n",
       "      <th></th>\n",
       "      <th>_id</th>\n",
       "      <th>feat_000</th>\n",
       "      <th>feat_001</th>\n",
       "      <th>feat_002</th>\n",
       "      <th>feat_003</th>\n",
       "      <th>feat_004</th>\n",
       "      <th>feat_005</th>\n",
       "      <th>feat_006</th>\n",
       "      <th>feat_007</th>\n",
       "      <th>feat_008</th>\n",
       "      <th>...</th>\n",
       "      <th>feat_990</th>\n",
       "      <th>feat_991</th>\n",
       "      <th>feat_992</th>\n",
       "      <th>feat_993</th>\n",
       "      <th>feat_994</th>\n",
       "      <th>feat_995</th>\n",
       "      <th>feat_996</th>\n",
       "      <th>feat_997</th>\n",
       "      <th>feat_998</th>\n",
       "      <th>feat_999</th>\n",
       "    </tr>\n",
       "  </thead>\n",
       "  <tbody>\n",
       "    <tr>\n",
       "      <th>0</th>\n",
       "      <td>68</td>\n",
       "      <td>-1.601151</td>\n",
       "      <td>0.015830</td>\n",
       "      <td>-0.797396</td>\n",
       "      <td>-0.773659</td>\n",
       "      <td>0.794560</td>\n",
       "      <td>-0.723385</td>\n",
       "      <td>2.551907</td>\n",
       "      <td>-1.419732</td>\n",
       "      <td>1.095865</td>\n",
       "      <td>...</td>\n",
       "      <td>-1.647478</td>\n",
       "      <td>1.472390</td>\n",
       "      <td>0.402376</td>\n",
       "      <td>0.205470</td>\n",
       "      <td>0.918775</td>\n",
       "      <td>-1.245515</td>\n",
       "      <td>0.963861</td>\n",
       "      <td>-1.047589</td>\n",
       "      <td>-2.167971</td>\n",
       "      <td>0.376090</td>\n",
       "    </tr>\n",
       "    <tr>\n",
       "      <th>1</th>\n",
       "      <td>106</td>\n",
       "      <td>-1.180409</td>\n",
       "      <td>1.140129</td>\n",
       "      <td>0.674667</td>\n",
       "      <td>-0.435795</td>\n",
       "      <td>0.443647</td>\n",
       "      <td>0.987556</td>\n",
       "      <td>0.836558</td>\n",
       "      <td>-0.779660</td>\n",
       "      <td>-1.023285</td>\n",
       "      <td>...</td>\n",
       "      <td>1.056871</td>\n",
       "      <td>0.501399</td>\n",
       "      <td>-0.776944</td>\n",
       "      <td>0.139919</td>\n",
       "      <td>1.341844</td>\n",
       "      <td>0.146152</td>\n",
       "      <td>-1.364414</td>\n",
       "      <td>-0.018121</td>\n",
       "      <td>-0.865222</td>\n",
       "      <td>0.422413</td>\n",
       "    </tr>\n",
       "    <tr>\n",
       "      <th>2</th>\n",
       "      <td>114</td>\n",
       "      <td>-0.520219</td>\n",
       "      <td>1.103622</td>\n",
       "      <td>-1.036229</td>\n",
       "      <td>-0.716255</td>\n",
       "      <td>-0.060845</td>\n",
       "      <td>0.041324</td>\n",
       "      <td>-0.264753</td>\n",
       "      <td>0.054012</td>\n",
       "      <td>-0.720405</td>\n",
       "      <td>...</td>\n",
       "      <td>-1.289313</td>\n",
       "      <td>1.120850</td>\n",
       "      <td>0.444794</td>\n",
       "      <td>-0.143878</td>\n",
       "      <td>1.131859</td>\n",
       "      <td>-0.590383</td>\n",
       "      <td>0.302393</td>\n",
       "      <td>0.613446</td>\n",
       "      <td>1.117143</td>\n",
       "      <td>1.082976</td>\n",
       "    </tr>\n",
       "    <tr>\n",
       "      <th>3</th>\n",
       "      <td>120</td>\n",
       "      <td>-0.662163</td>\n",
       "      <td>-0.136778</td>\n",
       "      <td>0.681523</td>\n",
       "      <td>0.881738</td>\n",
       "      <td>0.374278</td>\n",
       "      <td>-1.825832</td>\n",
       "      <td>-0.001869</td>\n",
       "      <td>1.218144</td>\n",
       "      <td>-0.693351</td>\n",
       "      <td>...</td>\n",
       "      <td>1.497854</td>\n",
       "      <td>1.706526</td>\n",
       "      <td>-2.466427</td>\n",
       "      <td>1.090575</td>\n",
       "      <td>0.174995</td>\n",
       "      <td>-1.001662</td>\n",
       "      <td>-0.677504</td>\n",
       "      <td>-1.647389</td>\n",
       "      <td>0.549608</td>\n",
       "      <td>0.307143</td>\n",
       "    </tr>\n",
       "    <tr>\n",
       "      <th>4</th>\n",
       "      <td>150</td>\n",
       "      <td>1.459898</td>\n",
       "      <td>-0.097152</td>\n",
       "      <td>0.978776</td>\n",
       "      <td>-1.726592</td>\n",
       "      <td>0.587427</td>\n",
       "      <td>1.632678</td>\n",
       "      <td>-0.871186</td>\n",
       "      <td>-0.043300</td>\n",
       "      <td>1.247033</td>\n",
       "      <td>...</td>\n",
       "      <td>0.953939</td>\n",
       "      <td>0.743840</td>\n",
       "      <td>-0.977050</td>\n",
       "      <td>0.003572</td>\n",
       "      <td>1.063721</td>\n",
       "      <td>1.255826</td>\n",
       "      <td>-0.531827</td>\n",
       "      <td>1.221130</td>\n",
       "      <td>1.282362</td>\n",
       "      <td>-0.440198</td>\n",
       "    </tr>\n",
       "  </tbody>\n",
       "</table>\n",
       "<p>5 rows × 1001 columns</p>\n",
       "</div>"
      ],
      "text/plain": [
       "   _id  feat_000  feat_001  feat_002  feat_003  feat_004  feat_005  feat_006  \\\n",
       "0   68 -1.601151  0.015830 -0.797396 -0.773659  0.794560 -0.723385  2.551907   \n",
       "1  106 -1.180409  1.140129  0.674667 -0.435795  0.443647  0.987556  0.836558   \n",
       "2  114 -0.520219  1.103622 -1.036229 -0.716255 -0.060845  0.041324 -0.264753   \n",
       "3  120 -0.662163 -0.136778  0.681523  0.881738  0.374278 -1.825832 -0.001869   \n",
       "4  150  1.459898 -0.097152  0.978776 -1.726592  0.587427  1.632678 -0.871186   \n",
       "\n",
       "   feat_007  feat_008    ...     feat_990  feat_991  feat_992  feat_993  \\\n",
       "0 -1.419732  1.095865    ...    -1.647478  1.472390  0.402376  0.205470   \n",
       "1 -0.779660 -1.023285    ...     1.056871  0.501399 -0.776944  0.139919   \n",
       "2  0.054012 -0.720405    ...    -1.289313  1.120850  0.444794 -0.143878   \n",
       "3  1.218144 -0.693351    ...     1.497854  1.706526 -2.466427  1.090575   \n",
       "4 -0.043300  1.247033    ...     0.953939  0.743840 -0.977050  0.003572   \n",
       "\n",
       "   feat_994  feat_995  feat_996  feat_997  feat_998  feat_999  \n",
       "0  0.918775 -1.245515  0.963861 -1.047589 -2.167971  0.376090  \n",
       "1  1.341844  0.146152 -1.364414 -0.018121 -0.865222  0.422413  \n",
       "2  1.131859 -0.590383  0.302393  0.613446  1.117143  1.082976  \n",
       "3  0.174995 -1.001662 -0.677504 -1.647389  0.549608  0.307143  \n",
       "4  1.063721  1.255826 -0.531827  1.221130  1.282362 -0.440198  \n",
       "\n",
       "[5 rows x 1001 columns]"
      ]
     },
     "execution_count": 5,
     "metadata": {},
     "output_type": "execute_result"
    }
   ],
   "source": [
    "db_y_1 = database_1['target']\n",
    "db_x_1 = database_1.drop(['target'], 1)\n",
    "db_x_1.head()"
   ]
  },
  {
   "cell_type": "code",
   "execution_count": 13,
   "metadata": {
    "collapsed": true
   },
   "outputs": [],
   "source": [
    "# use this function to find r2 of redundant features \n",
    "# dropping a feature and seeing if the other features can predict it\n",
    "def calculate_r_2_for_feature_tree(data,feature):\n",
    "    new_data = data.drop(feature, axis=1)\n",
    "\n",
    "    X_train, \\\n",
    "    X_test,  \\\n",
    "    y_train, \\\n",
    "    y_test = train_test_split(\n",
    "        new_data,data[feature],test_size=0.25\n",
    "    )\n",
    "\n",
    "    regressor = DecisionTreeRegressor()\n",
    "    regressor.fit(X_train,y_train)\n",
    "\n",
    "    score = regressor.score(X_test,y_test)\n",
    "    return score\n",
    "\n",
    "#use this function to take the mean of the scores after 100 runs\n",
    "def mean_r2_for_feature_tree(data, feature):\n",
    "    scores = []\n",
    "    for _ in range(2):\n",
    "        scores.append(calculate_r_2_for_feature_tree(data, feature))\n",
    "        \n",
    "    scores = np.array(scores)\n",
    "    return scores.mean()\n",
    "\n",
    "# use this function to get the mean of scores of multiple columns \n",
    "def mean_column_range_tree(l, h, data):  \n",
    "    r2_tree= []\n",
    "    for i in tqdm(data.columns[l:h]):\n",
    "        if mean_r2_for_feature_tree(data, i) > 0:\n",
    "            r2_tree.append(i)\n",
    "    return r2_tree"
   ]
  },
  {
   "cell_type": "code",
   "execution_count": 28,
   "metadata": {
    "scrolled": false
   },
   "outputs": [
    {
     "name": "stderr",
     "output_type": "stream",
     "text": [
      " 26%|██▌       | 258/1000 [36:01<1:43:36,  8.38s/it]"
     ]
    },
    {
     "name": "stdout",
     "output_type": "stream",
     "text": [
      "feat_257 0.835122339958\n"
     ]
    },
    {
     "name": "stderr",
     "output_type": "stream",
     "text": [
      " 27%|██▋       | 270/1000 [37:40<1:41:51,  8.37s/it]"
     ]
    },
    {
     "name": "stdout",
     "output_type": "stream",
     "text": [
      "feat_269 0.919153543936\n"
     ]
    },
    {
     "name": "stderr",
     "output_type": "stream",
     "text": [
      " 31%|███       | 309/1000 [43:05<1:36:22,  8.37s/it]"
     ]
    },
    {
     "name": "stdout",
     "output_type": "stream",
     "text": [
      "feat_308 0.768073551021\n"
     ]
    },
    {
     "name": "stderr",
     "output_type": "stream",
     "text": [
      " 32%|███▏      | 316/1000 [44:06<1:35:27,  8.37s/it]"
     ]
    },
    {
     "name": "stdout",
     "output_type": "stream",
     "text": [
      "feat_315 0.862585885492\n"
     ]
    },
    {
     "name": "stderr",
     "output_type": "stream",
     "text": [
      " 34%|███▎      | 337/1000 [46:57<1:32:23,  8.36s/it]"
     ]
    },
    {
     "name": "stdout",
     "output_type": "stream",
     "text": [
      "feat_336 0.853967692079\n"
     ]
    },
    {
     "name": "stderr",
     "output_type": "stream",
     "text": [
      " 34%|███▍      | 342/1000 [47:43<1:31:48,  8.37s/it]"
     ]
    },
    {
     "name": "stdout",
     "output_type": "stream",
     "text": [
      "feat_341 0.907962320314\n"
     ]
    },
    {
     "name": "stderr",
     "output_type": "stream",
     "text": [
      " 40%|███▉      | 396/1000 [55:11<1:24:10,  8.36s/it]"
     ]
    },
    {
     "name": "stdout",
     "output_type": "stream",
     "text": [
      "feat_395 0.888755951384\n"
     ]
    },
    {
     "name": "stderr",
     "output_type": "stream",
     "text": [
      " 50%|█████     | 505/1000 [1:10:05<1:08:42,  8.33s/it]"
     ]
    },
    {
     "name": "stdout",
     "output_type": "stream",
     "text": [
      "feat_504 0.791583909096\n"
     ]
    },
    {
     "name": "stderr",
     "output_type": "stream",
     "text": [
      " 53%|█████▎    | 527/1000 [1:13:17<1:05:46,  8.34s/it]"
     ]
    },
    {
     "name": "stdout",
     "output_type": "stream",
     "text": [
      "feat_526 0.770552241662\n"
     ]
    },
    {
     "name": "stderr",
     "output_type": "stream",
     "text": [
      " 64%|██████▍   | 640/1000 [1:29:08<50:08,  8.36s/it]  "
     ]
    },
    {
     "name": "stdout",
     "output_type": "stream",
     "text": [
      "feat_639 0.962774395507\n"
     ]
    },
    {
     "name": "stderr",
     "output_type": "stream",
     "text": [
      " 68%|██████▊   | 682/1000 [1:34:54<44:15,  8.35s/it]"
     ]
    },
    {
     "name": "stdout",
     "output_type": "stream",
     "text": [
      "feat_681 0.762300488874\n"
     ]
    },
    {
     "name": "stderr",
     "output_type": "stream",
     "text": [
      " 70%|███████   | 702/1000 [1:37:40<41:27,  8.35s/it]"
     ]
    },
    {
     "name": "stdout",
     "output_type": "stream",
     "text": [
      "feat_701 0.851456894911\n"
     ]
    },
    {
     "name": "stderr",
     "output_type": "stream",
     "text": [
      " 72%|███████▎  | 725/1000 [1:40:51<38:15,  8.35s/it]"
     ]
    },
    {
     "name": "stdout",
     "output_type": "stream",
     "text": [
      "feat_724 0.859369711934\n"
     ]
    },
    {
     "name": "stderr",
     "output_type": "stream",
     "text": [
      " 74%|███████▎  | 737/1000 [1:42:32<36:35,  8.35s/it]"
     ]
    },
    {
     "name": "stdout",
     "output_type": "stream",
     "text": [
      "feat_736 0.810637812847\n"
     ]
    },
    {
     "name": "stderr",
     "output_type": "stream",
     "text": [
      " 77%|███████▋  | 770/1000 [1:47:02<31:58,  8.34s/it]"
     ]
    },
    {
     "name": "stdout",
     "output_type": "stream",
     "text": [
      "feat_769 0.813057508278\n"
     ]
    },
    {
     "name": "stderr",
     "output_type": "stream",
     "text": [
      " 81%|████████  | 809/1000 [1:52:24<26:32,  8.34s/it]"
     ]
    },
    {
     "name": "stdout",
     "output_type": "stream",
     "text": [
      "feat_808 0.790409417257\n"
     ]
    },
    {
     "name": "stderr",
     "output_type": "stream",
     "text": [
      " 83%|████████▎ | 830/1000 [1:55:18<23:36,  8.34s/it]"
     ]
    },
    {
     "name": "stdout",
     "output_type": "stream",
     "text": [
      "feat_829 0.782674193117\n"
     ]
    },
    {
     "name": "stderr",
     "output_type": "stream",
     "text": [
      " 87%|████████▋ | 868/1000 [2:00:26<18:18,  8.33s/it]"
     ]
    },
    {
     "name": "stdout",
     "output_type": "stream",
     "text": [
      "feat_867 0.897934477215\n"
     ]
    },
    {
     "name": "stderr",
     "output_type": "stream",
     "text": [
      " 92%|█████████▏| 921/1000 [2:07:46<10:57,  8.32s/it]"
     ]
    },
    {
     "name": "stdout",
     "output_type": "stream",
     "text": [
      "feat_920 0.870574507882\n"
     ]
    },
    {
     "name": "stderr",
     "output_type": "stream",
     "text": [
      " 96%|█████████▌| 957/1000 [2:12:44<05:57,  8.32s/it]"
     ]
    },
    {
     "name": "stdout",
     "output_type": "stream",
     "text": [
      "feat_956 0.956232936007\n"
     ]
    },
    {
     "name": "stderr",
     "output_type": "stream",
     "text": [
      "100%|██████████| 1000/1000 [2:18:43<00:00,  8.32s/it]\n"
     ]
    }
   ],
   "source": [
    "# mean_column_range_tree(1,1001, db_x_1)"
   ]
  },
  {
   "cell_type": "code",
   "execution_count": 24,
   "metadata": {
    "collapsed": true
   },
   "outputs": [],
   "source": [
    "top_20 = ['feat_257', 'feat_269', 'feat_308', 'feat_315', 'feat_336', 'feat_341', \n",
    "                   'feat_395', 'feat_504', 'feat_526', 'feat_639', 'feat_681', 'feat_701', \n",
    "                   'feat_724', 'feat_736', 'feat_769', 'feat_808', 'feat_829', 'feat_867',\n",
    "                   'feat_920', 'feat_956',]"
   ]
  },
  {
   "cell_type": "markdown",
   "metadata": {},
   "source": [
    "# SelectKBest Method"
   ]
  },
  {
   "cell_type": "code",
   "execution_count": 6,
   "metadata": {
    "collapsed": true
   },
   "outputs": [],
   "source": [
    "def skb_top_feats(x, y):\n",
    "    X_train, X_test, y_train, y_test = train_test_split(x, \n",
    "                                                    y, \n",
    "                                                    test_size=.2, \n",
    "                                                    random_state=42)\n",
    "    \n",
    "    scaler = StandardScaler()\n",
    "    \n",
    "    X_train_scaled = scaler.fit_transform(X_train)\n",
    "    X_test_scaled = scaler.transform(X_test)\n",
    "    skb_list = []\n",
    "    skb = SelectKBest(k=20, score_func=f_regression)\n",
    "    skb.fit(X_train, y_train)\n",
    "    \n",
    "    skb_feats = x.columns[skb.get_support()]\n",
    "    \n",
    "    skb_list.append(skb_feats)\n",
    "    \n",
    "    return skb_list"
   ]
  },
  {
   "cell_type": "code",
   "execution_count": 7,
   "metadata": {
    "scrolled": true
   },
   "outputs": [
    {
     "data": {
      "text/plain": [
       "[Index(['feat_003', 'feat_257', 'feat_269', 'feat_308', 'feat_315', 'feat_336',\n",
       "        'feat_341', 'feat_395', 'feat_504', 'feat_557', 'feat_681', 'feat_701',\n",
       "        'feat_724', 'feat_736', 'feat_769', 'feat_783', 'feat_808', 'feat_829',\n",
       "        'feat_867', 'feat_920'],\n",
       "       dtype='object')]"
      ]
     },
     "execution_count": 7,
     "metadata": {},
     "output_type": "execute_result"
    }
   ],
   "source": [
    "db_skb_feats = skb_top_feats(db_x_1, db_y_1)\n",
    "db_skb_feats"
   ]
  },
  {
   "cell_type": "code",
   "execution_count": 25,
   "metadata": {},
   "outputs": [
    {
     "name": "stdout",
     "output_type": "stream",
     "text": [
      "feat_257\n",
      "feat_269\n",
      "feat_308\n",
      "feat_315\n",
      "feat_336\n",
      "feat_341\n",
      "feat_395\n",
      "feat_504\n",
      "feat_681\n",
      "feat_701\n",
      "feat_724\n",
      "feat_736\n",
      "feat_769\n",
      "feat_808\n",
      "feat_829\n",
      "feat_867\n",
      "feat_920\n"
     ]
    }
   ],
   "source": [
    "db_skb_feats = ['feat_003', 'feat_257', 'feat_269', 'feat_308', 'feat_315', 'feat_336',\n",
    "        'feat_341', 'feat_395', 'feat_504', 'feat_557', 'feat_681', 'feat_701',\n",
    "        'feat_724', 'feat_736', 'feat_769', 'feat_783', 'feat_808', 'feat_829',\n",
    "        'feat_867', 'feat_920']\n",
    "for i in db_skb_feats:\n",
    "    if i in top_20:\n",
    "        print(i)"
   ]
  },
  {
   "cell_type": "markdown",
   "metadata": {},
   "source": [
    "# Correlation Matrix Method"
   ]
  },
  {
   "cell_type": "code",
   "execution_count": 29,
   "metadata": {},
   "outputs": [],
   "source": [
    "corr_df = db_x_1.corr().abs()\n",
    "for i in corr_df.columns:\n",
    "    corr_df.loc[i,i] = 0\n",
    "corr_list = corr_df.max().sort_values(ascending=False)[:20]\n",
    "\n",
    "corr_list = pd.DataFrame(corr_list)\n",
    "corr_list.sort_index(ascending=True)"
   ]
  },
  {
   "cell_type": "code",
   "execution_count": 40,
   "metadata": {},
   "outputs": [
    {
     "data": {
      "text/html": [
       "<div>\n",
       "<style>\n",
       "    .dataframe thead tr:only-child th {\n",
       "        text-align: right;\n",
       "    }\n",
       "\n",
       "    .dataframe thead th {\n",
       "        text-align: left;\n",
       "    }\n",
       "\n",
       "    .dataframe tbody tr th {\n",
       "        vertical-align: top;\n",
       "    }\n",
       "</style>\n",
       "<table border=\"1\" class=\"dataframe\">\n",
       "  <thead>\n",
       "    <tr style=\"text-align: right;\">\n",
       "      <th></th>\n",
       "      <th>0</th>\n",
       "    </tr>\n",
       "  </thead>\n",
       "  <tbody>\n",
       "    <tr>\n",
       "      <th>feat_257</th>\n",
       "      <td>0.748267</td>\n",
       "    </tr>\n",
       "    <tr>\n",
       "      <th>feat_269</th>\n",
       "      <td>0.823392</td>\n",
       "    </tr>\n",
       "    <tr>\n",
       "      <th>feat_308</th>\n",
       "      <td>0.703750</td>\n",
       "    </tr>\n",
       "    <tr>\n",
       "      <th>feat_315</th>\n",
       "      <td>0.902639</td>\n",
       "    </tr>\n",
       "    <tr>\n",
       "      <th>feat_336</th>\n",
       "      <td>0.816354</td>\n",
       "    </tr>\n",
       "    <tr>\n",
       "      <th>feat_341</th>\n",
       "      <td>0.793346</td>\n",
       "    </tr>\n",
       "    <tr>\n",
       "      <th>feat_395</th>\n",
       "      <td>0.859410</td>\n",
       "    </tr>\n",
       "    <tr>\n",
       "      <th>feat_504</th>\n",
       "      <td>0.706450</td>\n",
       "    </tr>\n",
       "    <tr>\n",
       "      <th>feat_526</th>\n",
       "      <td>0.705698</td>\n",
       "    </tr>\n",
       "    <tr>\n",
       "      <th>feat_639</th>\n",
       "      <td>0.979164</td>\n",
       "    </tr>\n",
       "    <tr>\n",
       "      <th>feat_681</th>\n",
       "      <td>0.706450</td>\n",
       "    </tr>\n",
       "    <tr>\n",
       "      <th>feat_701</th>\n",
       "      <td>0.902639</td>\n",
       "    </tr>\n",
       "    <tr>\n",
       "      <th>feat_724</th>\n",
       "      <td>0.859410</td>\n",
       "    </tr>\n",
       "    <tr>\n",
       "      <th>feat_736</th>\n",
       "      <td>0.717377</td>\n",
       "    </tr>\n",
       "    <tr>\n",
       "      <th>feat_769</th>\n",
       "      <td>0.782856</td>\n",
       "    </tr>\n",
       "    <tr>\n",
       "      <th>feat_808</th>\n",
       "      <td>0.748267</td>\n",
       "    </tr>\n",
       "    <tr>\n",
       "      <th>feat_829</th>\n",
       "      <td>0.736496</td>\n",
       "    </tr>\n",
       "    <tr>\n",
       "      <th>feat_867</th>\n",
       "      <td>0.816354</td>\n",
       "    </tr>\n",
       "    <tr>\n",
       "      <th>feat_920</th>\n",
       "      <td>0.613241</td>\n",
       "    </tr>\n",
       "    <tr>\n",
       "      <th>feat_956</th>\n",
       "      <td>0.979164</td>\n",
       "    </tr>\n",
       "  </tbody>\n",
       "</table>\n",
       "</div>"
      ],
      "text/plain": [
       "                 0\n",
       "feat_257  0.748267\n",
       "feat_269  0.823392\n",
       "feat_308  0.703750\n",
       "feat_315  0.902639\n",
       "feat_336  0.816354\n",
       "feat_341  0.793346\n",
       "feat_395  0.859410\n",
       "feat_504  0.706450\n",
       "feat_526  0.705698\n",
       "feat_639  0.979164\n",
       "feat_681  0.706450\n",
       "feat_701  0.902639\n",
       "feat_724  0.859410\n",
       "feat_736  0.717377\n",
       "feat_769  0.782856\n",
       "feat_808  0.748267\n",
       "feat_829  0.736496\n",
       "feat_867  0.816354\n",
       "feat_920  0.613241\n",
       "feat_956  0.979164"
      ]
     },
     "execution_count": 40,
     "metadata": {},
     "output_type": "execute_result"
    }
   ],
   "source": [
    "corr_list.sort_index(ascending=True)"
   ]
  },
  {
   "cell_type": "code",
   "execution_count": null,
   "metadata": {
    "collapsed": true
   },
   "outputs": [],
   "source": []
  }
 ],
 "metadata": {
  "kernelspec": {
   "display_name": "Python 3",
   "language": "python",
   "name": "python3"
  },
  "language_info": {
   "codemirror_mode": {
    "name": "ipython",
    "version": 3
   },
   "file_extension": ".py",
   "mimetype": "text/x-python",
   "name": "python",
   "nbconvert_exporter": "python",
   "pygments_lexer": "ipython3",
   "version": "3.6.2"
  }
 },
 "nbformat": 4,
 "nbformat_minor": 2
}
