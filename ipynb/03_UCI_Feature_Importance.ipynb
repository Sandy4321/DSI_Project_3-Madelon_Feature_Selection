{
 "cells": [
  {
   "cell_type": "markdown",
   "metadata": {},
   "source": [
    "# Take  3 samples of UCI dataset \n",
    "# Include only top 20 salient features and try different methods to find important features"
   ]
  },
  {
   "cell_type": "code",
   "execution_count": 3,
   "metadata": {},
   "outputs": [],
   "source": [
    "%run ../__init__.py"
   ]
  },
  {
   "cell_type": "code",
   "execution_count": 5,
   "metadata": {},
   "outputs": [],
   "source": [
    "uci_train = pd.read_pickle('../Datasets/train_clean.p')\n",
    "\n",
    "# top 20 features found \n",
    "uci_20_feats =  [28, 48, 64, 105, 128, 153, 241, 281, 318, 336, 338, 378, \n",
    "                   433, 442, 451, 453, 455, 472, 475, 493]\n",
    "\n",
    "#take 3 samples from madelon uci train dataset\n",
    "uci_sample1 = uci_train.sample(440)\n",
    "uci_sample2 = uci_train.sample(440)\n",
    "uci_sample3 = uci_train.sample(440)\n",
    "\n",
    "#create X and y dataframes from samplesets \n",
    "uci_y_1 = uci_sample1['target']\n",
    "uci_x_1 = uci_sample1[uci_20_feats]\n",
    "uci_y_2 = uci_sample2['target']\n",
    "uci_x_2 = uci_sample2[uci_20_feats]\n",
    "uci_y_3 = uci_sample3['target']\n",
    "uci_x_3 = uci_sample3[uci_20_feats]"
   ]
  },
  {
   "cell_type": "markdown",
   "metadata": {},
   "source": [
    "# Find top 5 feats from sample datasets"
   ]
  },
  {
   "cell_type": "code",
   "execution_count": 6,
   "metadata": {
    "collapsed": true
   },
   "outputs": [],
   "source": [
    "def skb_5_feats(x, y):\n",
    "    X_train, X_test, y_train, y_test = train_test_split(x, \n",
    "                                                    y, \n",
    "                                                    test_size=.2, \n",
    "                                                    random_state=42)\n",
    "    skb_list = []\n",
    "    \n",
    "    scaler = StandardScaler()\n",
    "    X_train_scaled = scaler.fit_transform(X_train)\n",
    "    X_test_scaled = scaler.transform(X_test)\n",
    "    \n",
    "    skb = SelectKBest(k=5, score_func=f_regression)\n",
    "    skb.fit(X_train_scaled, y_train)\n",
    "    \n",
    "    skb_feats = x.columns[skb.get_support()]\n",
    "    \n",
    "    skb_list.append(skb_feats)\n",
    "    \n",
    "    return skb_list"
   ]
  },
  {
   "cell_type": "code",
   "execution_count": 7,
   "metadata": {
    "scrolled": false
   },
   "outputs": [
    {
     "name": "stdout",
     "output_type": "stream",
     "text": [
      "[[48 128 241 378 475]]\n",
      "[[64 105 241 336 475]]\n",
      "[[241 336 338 472 475]]\n"
     ]
    }
   ],
   "source": [
    "# find top 5 features from each sample set\n",
    "uci_1 = skb_5_feats(uci_x_1, uci_y_1)\n",
    "uci_2 = skb_5_feats(uci_x_2, uci_y_2)\n",
    "uci_3 = skb_5_feats(uci_x_3, uci_y_3)\n",
    "\n",
    "print(np.sort(uci_1))\n",
    "print(np.sort(uci_2))\n",
    "print(np.sort(uci_3))"
   ]
  },
  {
   "cell_type": "markdown",
   "metadata": {},
   "source": [
    "### Top 5 features of SKB from sample sets are not the same, try RFE"
   ]
  },
  {
   "cell_type": "code",
   "execution_count": 8,
   "metadata": {
    "collapsed": true
   },
   "outputs": [],
   "source": [
    "def rfe_5_feats(x, y, estimator = DecisionTreeClassifier(max_depth=10)):\n",
    "    \n",
    "    X_train, X_test, y_train, y_test = train_test_split(x, \n",
    "                                                    y, \n",
    "                                                    test_size=.2, \n",
    "                                                    random_state=42)\n",
    "    \n",
    "    rfe_list = []\n",
    "    \n",
    "    scaler = StandardScaler()\n",
    "    X_train_scaled = scaler.fit_transform(X_train)\n",
    "    X_test_scaled = scaler.transform(X_test)\n",
    "    \n",
    "    rfe = RFE(estimator = estimator, n_features_to_select=5)\n",
    "    rfe.fit(X_train_scaled, y_train)\n",
    "    \n",
    "    rfe_feats = x.columns[rfe.get_support()]\n",
    "    rfe_list.append(rfe_feats)\n",
    "    \n",
    "    return rfe_list"
   ]
  },
  {
   "cell_type": "code",
   "execution_count": 9,
   "metadata": {},
   "outputs": [
    {
     "name": "stdout",
     "output_type": "stream",
     "text": [
      "[[105 318 336 378 455]]\n",
      "[[48 105 153 451 475]]\n",
      "[[64 105 318 338 475]]\n"
     ]
    }
   ],
   "source": [
    "uci_1_rfe = rfe_5_feats(uci_x_1, uci_y_1)\n",
    "uci_2_rfe = rfe_5_feats(uci_x_2, uci_y_2)\n",
    "uci_3_rfe = rfe_5_feats(uci_x_3, uci_y_3)\n",
    "\n",
    "print(np.sort(uci_1_rfe))\n",
    "print(np.sort(uci_2_rfe))\n",
    "print(np.sort(uci_3_rfe))"
   ]
  },
  {
   "cell_type": "markdown",
   "metadata": {},
   "source": [
    "### Try to find important features with Randomforest pipeline"
   ]
  },
  {
   "cell_type": "code",
   "execution_count": 17,
   "metadata": {
    "collapsed": true
   },
   "outputs": [],
   "source": [
    "from sklearn.pipeline import Pipeline"
   ]
  },
  {
   "cell_type": "code",
   "execution_count": 10,
   "metadata": {
    "collapsed": true
   },
   "outputs": [],
   "source": [
    "def feature_importance(X, y):\n",
    "    X_train, X_test, y_train, y_test = train_test_split(X,y,random_state=42)\n",
    "    \n",
    "    \n",
    "    rf_pipe = Pipeline([('scaler',StandardScaler()),\n",
    "    ('clf',RandomForestClassifier(random_state=42))])\n",
    "    \n",
    "    rfparams = {\n",
    "    'clf__n_estimators':[10,50,100],\n",
    "    'clf__max_features':['auto','log2']}\n",
    "    \n",
    "    rfgs = GridSearchCV(rf_pipe, rfparams, cv=5, n_jobs=-1)\n",
    "    \n",
    "    rfgs.fit(X_train, y_train)\n",
    "    \n",
    "    important_features = rfgs.best_estimator_.named_steps['clf']\n",
    "    \n",
    "    return important_features"
   ]
  },
  {
   "cell_type": "code",
   "execution_count": 16,
   "metadata": {},
   "outputs": [
    {
     "data": {
      "text/html": [
       "<div>\n",
       "<style>\n",
       "    .dataframe thead tr:only-child th {\n",
       "        text-align: right;\n",
       "    }\n",
       "\n",
       "    .dataframe thead th {\n",
       "        text-align: left;\n",
       "    }\n",
       "\n",
       "    .dataframe tbody tr th {\n",
       "        vertical-align: top;\n",
       "    }\n",
       "</style>\n",
       "<table border=\"1\" class=\"dataframe\">\n",
       "  <thead>\n",
       "    <tr style=\"text-align: right;\">\n",
       "      <th></th>\n",
       "      <th>Gini-importance</th>\n",
       "    </tr>\n",
       "  </thead>\n",
       "  <tbody>\n",
       "    <tr>\n",
       "      <th>378</th>\n",
       "      <td>0.082847</td>\n",
       "    </tr>\n",
       "    <tr>\n",
       "      <th>48</th>\n",
       "      <td>0.075207</td>\n",
       "    </tr>\n",
       "    <tr>\n",
       "      <th>338</th>\n",
       "      <td>0.074603</td>\n",
       "    </tr>\n",
       "    <tr>\n",
       "      <th>336</th>\n",
       "      <td>0.063754</td>\n",
       "    </tr>\n",
       "    <tr>\n",
       "      <th>105</th>\n",
       "      <td>0.062278</td>\n",
       "    </tr>\n",
       "  </tbody>\n",
       "</table>\n",
       "</div>"
      ],
      "text/plain": [
       "     Gini-importance\n",
       "378         0.082847\n",
       "48          0.075207\n",
       "338         0.074603\n",
       "336         0.063754\n",
       "105         0.062278"
      ]
     },
     "execution_count": 16,
     "metadata": {},
     "output_type": "execute_result"
    }
   ],
   "source": [
    "uci_1 = feature_importance(uci_x_1, uci_y_1)\n",
    "\n",
    "feats = {} # a dict to hold feature_name: feature_importance\n",
    "for feature, importance in zip(uci_x_1.columns, uci_1.feature_importances_):\n",
    "    feats[feature] = importance #add the name/value pair \n",
    "\n",
    "importances_1 = pd.DataFrame.from_dict(feats, orient='index').rename(columns={0: 'Gini-importance'})\n",
    "\n",
    "importances_1.sort_values(['Gini-importance'], ascending=False).head(5)"
   ]
  },
  {
   "cell_type": "code",
   "execution_count": 78,
   "metadata": {},
   "outputs": [
    {
     "data": {
      "text/html": [
       "<div>\n",
       "<style>\n",
       "    .dataframe thead tr:only-child th {\n",
       "        text-align: right;\n",
       "    }\n",
       "\n",
       "    .dataframe thead th {\n",
       "        text-align: left;\n",
       "    }\n",
       "\n",
       "    .dataframe tbody tr th {\n",
       "        vertical-align: top;\n",
       "    }\n",
       "</style>\n",
       "<table border=\"1\" class=\"dataframe\">\n",
       "  <thead>\n",
       "    <tr style=\"text-align: right;\">\n",
       "      <th></th>\n",
       "      <th>Gini-importance</th>\n",
       "    </tr>\n",
       "  </thead>\n",
       "  <tbody>\n",
       "    <tr>\n",
       "      <th>241</th>\n",
       "      <td>0.065537</td>\n",
       "    </tr>\n",
       "    <tr>\n",
       "      <th>338</th>\n",
       "      <td>0.065187</td>\n",
       "    </tr>\n",
       "    <tr>\n",
       "      <th>105</th>\n",
       "      <td>0.065161</td>\n",
       "    </tr>\n",
       "    <tr>\n",
       "      <th>48</th>\n",
       "      <td>0.055069</td>\n",
       "    </tr>\n",
       "    <tr>\n",
       "      <th>378</th>\n",
       "      <td>0.054967</td>\n",
       "    </tr>\n",
       "  </tbody>\n",
       "</table>\n",
       "</div>"
      ],
      "text/plain": [
       "     Gini-importance\n",
       "241         0.065537\n",
       "338         0.065187\n",
       "105         0.065161\n",
       "48          0.055069\n",
       "378         0.054967"
      ]
     },
     "execution_count": 78,
     "metadata": {},
     "output_type": "execute_result"
    }
   ],
   "source": [
    "uci_2 = feature_importance(uci_x_2, uci_y_2)\n",
    "\n",
    "feats = {} # a dict to hold feature_name: feature_importance\n",
    "for feature, importance in zip(uci_x_2.columns, uci_2.feature_importances_):\n",
    "    feats[feature] = importance #add the name/value pair \n",
    "\n",
    "importances_2 = pd.DataFrame.from_dict(feats, orient='index').rename(columns={0: 'Gini-importance'})\n",
    "\n",
    "importances_2.sort_values(['Gini-importance'], ascending=False).head(5)"
   ]
  },
  {
   "cell_type": "code",
   "execution_count": 13,
   "metadata": {},
   "outputs": [
    {
     "data": {
      "text/html": [
       "<div>\n",
       "<style>\n",
       "    .dataframe thead tr:only-child th {\n",
       "        text-align: right;\n",
       "    }\n",
       "\n",
       "    .dataframe thead th {\n",
       "        text-align: left;\n",
       "    }\n",
       "\n",
       "    .dataframe tbody tr th {\n",
       "        vertical-align: top;\n",
       "    }\n",
       "</style>\n",
       "<table border=\"1\" class=\"dataframe\">\n",
       "  <thead>\n",
       "    <tr style=\"text-align: right;\">\n",
       "      <th></th>\n",
       "      <th>Gini-importance</th>\n",
       "    </tr>\n",
       "  </thead>\n",
       "  <tbody>\n",
       "    <tr>\n",
       "      <th>338</th>\n",
       "      <td>0.085447</td>\n",
       "    </tr>\n",
       "    <tr>\n",
       "      <th>241</th>\n",
       "      <td>0.075857</td>\n",
       "    </tr>\n",
       "    <tr>\n",
       "      <th>105</th>\n",
       "      <td>0.063605</td>\n",
       "    </tr>\n",
       "    <tr>\n",
       "      <th>475</th>\n",
       "      <td>0.058061</td>\n",
       "    </tr>\n",
       "    <tr>\n",
       "      <th>318</th>\n",
       "      <td>0.052967</td>\n",
       "    </tr>\n",
       "  </tbody>\n",
       "</table>\n",
       "</div>"
      ],
      "text/plain": [
       "     Gini-importance\n",
       "338         0.085447\n",
       "241         0.075857\n",
       "105         0.063605\n",
       "475         0.058061\n",
       "318         0.052967"
      ]
     },
     "execution_count": 13,
     "metadata": {},
     "output_type": "execute_result"
    }
   ],
   "source": [
    "uci_3 = feature_importance(uci_x_3, uci_y_3)\n",
    "\n",
    "feats = {} # a dict to hold feature_name: feature_importance\n",
    "for feature, importance in zip(uci_x_3.columns, uci_3.feature_importances_):\n",
    "    feats[feature] = importance #add the name/value pair \n",
    "\n",
    "importances_3 = pd.DataFrame.from_dict(feats, orient='index').rename(columns={0: 'Gini-importance'})\n",
    "\n",
    "importances_3.sort_values(['Gini-importance'], ascending=False).head(5)"
   ]
  },
  {
   "cell_type": "markdown",
   "metadata": {},
   "source": [
    "While there are some overlap of features with the other methods, results are still inconclusive of which 5 features are the most important, therefore, I'm keeping all 20 salient features in model creation."
   ]
  },
  {
   "cell_type": "code",
   "execution_count": null,
   "metadata": {
    "collapsed": true
   },
   "outputs": [],
   "source": [
    "uci_y_1.to_pickle('./Datasets/uci_y_1')\n",
    "uci_x_1.to_pickle('./Datasets/uci_x_1')\n",
    "uci_y_2.to_pickle('./Datasets/uci_y_2')\n",
    "uci_x_2.to_pickle('./Datasets/uci_x_2')\n",
    "uci_y_3.to_pickle('./Datasets/uci_y_3')\n",
    "uci_x_3.to_pickle('./Datasets/uci_x_3')"
   ]
  }
 ],
 "metadata": {
  "kernelspec": {
   "display_name": "Python 3",
   "language": "python",
   "name": "python3"
  },
  "language_info": {
   "codemirror_mode": {
    "name": "ipython",
    "version": 3
   },
   "file_extension": ".py",
   "mimetype": "text/x-python",
   "name": "python",
   "nbconvert_exporter": "python",
   "pygments_lexer": "ipython3",
   "version": "3.6.1"
  }
 },
 "nbformat": 4,
 "nbformat_minor": 2
}
